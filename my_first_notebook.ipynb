{
 "cells": [
  {
   "cell_type": "markdown",
   "id": "e0cfbc32-57ce-4998-b4c4-594c37fc925b",
   "metadata": {},
   "source": [
    "# My first notebook\n",
    "\n",
    "> Note: to avoid random Lorem ipsum text, we've taken the step of asking chatGPT to explain the tools. It is therefore possible that there may be some oddities.\n",
    "\n",
    "## Our pipeline\n",
    "\n",
    "1. Download data\n",
    "2. Create a genome index\n",
    "3. Check quality\n",
    "4. Align data with reference genome\n",
    "5. Count number of read per gene\n",
    "6. Diferential analysis\n",
    "7. Visualisation \n",
    "\n",
    "## Load tools"
   ]
  },
  {
   "cell_type": "code",
   "execution_count": null,
   "id": "13383779-3513-4784-a0cb-d5c94f8324d3",
   "metadata": {},
   "outputs": [],
   "source": [
    "module load zenodo_get/1.3.2 \n",
    "module load hisat2/2.2.1\n",
    "module load fastqc/0.12.1\n",
    "module load samtools/1.15.1\n",
    "module load htseq/0.13.5\n",
    "module load r/4.2.3"
   ]
  },
  {
   "cell_type": "markdown",
   "id": "10ef08c6-628f-4ad5-936f-6db6d56673cf",
   "metadata": {},
   "source": [
    "## Get Data from Zenodo\n",
    "\n",
    "Zenodo is an online platform that enables researchers and scientists to deposit, share, and archive their research data, publications, software, presentations, and other digital content. It is an initiative developed by the European Organization for Nuclear Research (CERN) to promote the free circulation of scientific knowledge and facilitate access to research findings.\n",
    "\n",
    "Zenodo provides free and permanent storage space for researchers, ensuring the longevity and availability of research data in the long term. Additionally, the platform assigns Digital Object Identifiers (DOIs) to each deposit, making it easier to cite and reference research works, thus contributing to the academic recognition of authors."
   ]
  },
  {
   "cell_type": "markdown",
   "id": "deef233e-cf6e-498b-a530-85762db1867d",
   "metadata": {},
   "source": [
    "### Get data from Zenodo"
   ]
  },
  {
   "cell_type": "code",
   "execution_count": null,
   "id": "ab70336a-0d12-4a47-b296-72951faa6c95",
   "metadata": {},
   "outputs": [],
   "source": [
    "zenodo_get -t 60 -R 3 10.5281/zenodo.3997237"
   ]
  },
  {
   "cell_type": "markdown",
   "id": "8784ae70-917d-403a-bf95-fe50bd7020b9",
   "metadata": {},
   "source": [
    "### Checking the viability of data "
   ]
  },
  {
   "cell_type": "code",
   "execution_count": null,
   "id": "a51315c0-15d1-4c1a-8ef4-aa16e68bced4",
   "metadata": {},
   "outputs": [],
   "source": [
    "md5sum -c md5sums.txt"
   ]
  },
  {
   "cell_type": "markdown",
   "id": "be87e0b7-5ccd-4e4b-a000-665f08207b90",
   "metadata": {},
   "source": [
    "### Extract data"
   ]
  },
  {
   "cell_type": "code",
   "execution_count": null,
   "id": "4ba98708-3141-463e-9674-d1c2e2dda6ec",
   "metadata": {},
   "outputs": [],
   "source": [
    "tar -xzf FAIR_Bioinfo_data.tar.gz && rm FAIR_Bioinfo_data.tar.gz"
   ]
  },
  {
   "cell_type": "markdown",
   "id": "8540de07-fb7f-4cb2-bb4b-0eebccdbf7a6",
   "metadata": {},
   "source": [
    "## Create hisat2 indexes\n",
    "\n",
    "### The tool used : `hisat2-build`\n",
    "\n",
    "The `hisat2-build` command is used in bioinformatics to index a reference genome for efficient alignment of sequence reads. Here's what it does:\n",
    "\n",
    "1. **Reference Genome Indexing:** Takes a reference genome, divides it into small parts, and creates an index.\n",
    "   \n",
    "2. **Partitioning into Small Parts:** Divides the reference genome into fragments of a certain size.\n",
    "\n",
    "3. **Creating an Index:** Generates an index, which acts as a map or guide for quick retrieval of different genome parts. This index includes information about the positions of unique sequences in the genome.\n",
    "\n",
    "4. **Optimizing Search:** The created index speeds up the alignment process by allowing quick location of relevant genome regions, saving time especially when analyzing large datasets.\n",
    "\n",
    "In summary, `hisat2-build` creates an index from a reference genome, facilitating rapid alignment of sequence data during genetic analysis.\n",
    "\n",
    "#### Code"
   ]
  },
  {
   "cell_type": "code",
   "execution_count": null,
   "id": "978993cd-c5d0-494e-a0a4-65883d7c3167",
   "metadata": {},
   "outputs": [],
   "source": [
    "mkdir -p hisat2_indexes\n",
    "hisat2-build Data/O.tauri_genome.fna hisat2_indexes/Otauri"
   ]
  },
  {
   "cell_type": "markdown",
   "id": "0751e46a-6720-4fc6-b67e-95265ac3fa53",
   "metadata": {},
   "source": [
    "## Check quality of the data\n",
    "\n",
    "### The tool used : `fastqc`\n",
    "\n",
    "The `fastqc` command is used in bioinformatics for quality control analysis of high-throughput sequencing data. Here's a brief overview of its functionality:\n",
    "\n",
    "1. **Quality Control Analysis:** FastQC analyzes the quality of sequencing data to identify potential issues or biases that may affect downstream analysis.\n",
    "\n",
    "2. **Input Data:** Takes input files in various formats (e.g., FASTQ) containing sequencing reads generated from experiments like RNA-seq, ChIP-seq, or whole-genome sequencing.\n",
    "\n",
    "3. **Analysis Modules:** FastQC performs various analysis modules to assess different aspects of data quality, including per-base sequence quality, per-sequence quality scores, sequence length distribution, GC content, sequence duplication levels, and overrepresented sequences.\n",
    "\n",
    "4. **Visual Reports:** Generates HTML reports containing summary statistics, graphs, and charts to visualize the quality metrics and identify any anomalies or patterns in the data.\n",
    "\n",
    "5. **Interpretation:** Users can interpret the FastQC reports to make informed decisions about data preprocessing steps, such as trimming adapters, filtering low-quality reads, or adjusting sequencing parameters.\n",
    "\n",
    "In summary, `fastqc` is a versatile tool for assessing the quality of sequencing data, providing valuable insights to researchers for optimizing experimental protocols and ensuring the reliability of downstream analyses.\n",
    "\n",
    "### Code"
   ]
  },
  {
   "cell_type": "code",
   "execution_count": null,
   "id": "d0fba604-3313-4c2c-874e-0bf4bbe7d89c",
   "metadata": {},
   "outputs": [],
   "source": [
    "mkdir -p quality\n",
    "fastqc -o quality Data/*.fastq.gz"
   ]
  },
  {
   "cell_type": "markdown",
   "id": "a731826f-8c89-4b7c-b126-2f617e6a29d6",
   "metadata": {},
   "source": [
    "## Align data to reference genome\n",
    "\n",
    "### The tools we use : `hisat2` & `samtools`\n",
    "\n",
    "#### Hisat2\n",
    "\n",
    "`hisat2` is a bioinformatics tool commonly used for aligning high-throughput sequencing reads to a reference genome. Here's a concise overview of its functionality:\n",
    "\n",
    "1. **Alignment of Sequencing Reads:** Hisat2 aligns sequencing reads, typically obtained from RNA-seq, DNA-seq, or other sequencing experiments, to a reference genome or transcriptome.\n",
    "\n",
    "2. **Input Data:** Accepts input reads in FASTQ format, which contain short sequences of nucleotides generated by sequencing machines.\n",
    "\n",
    "3. **Reference Genome Alignment:** Aligns reads to a reference genome or transcriptome to determine their genomic origin or mapping position.\n",
    "\n",
    "4. **Sensitive and Fast Alignment:** Hisat2 employs advanced algorithms to achieve highly sensitive and accurate alignments while maintaining computational efficiency, making it suitable for analyzing large-scale sequencing datasets.\n",
    "\n",
    "5. **Spliced Alignment:** Capable of accurately aligning reads across splice junctions in eukaryotic genomes, facilitating gene expression analysis from RNA-seq data.\n",
    "\n",
    "6. **Output Formats:** Generates alignment results in standard formats such as SAM (Sequence Alignment/Map) or BAM (Binary Alignment/Map), which can be further processed or visualized using various bioinformatics tools.\n",
    "\n",
    "7. **Compatibility:** Hisat2 is compatible with downstream analysis tools and pipelines commonly used in bioinformatics, allowing seamless integration into data analysis workflows.\n",
    "\n",
    "In summary, `hisat2` is a versatile and efficient tool for aligning sequencing reads to reference genomes or transcriptomes, providing essential information for various genomic and transcriptomic analyses.\n",
    "\n",
    "#### samtools\n",
    "\n",
    "`Samtools` is a versatile bioinformatics tool widely used for manipulating and analyzing files in the SAM (Sequence Alignment/Map) and BAM (Binary Alignment/Map) formats, which are commonly used to represent sequence alignments generated by various sequencing platforms. Here's a concise overview of its functionality:\n",
    "\n",
    "1. **File Format Conversion:** Samtools provides utilities for converting between SAM and BAM formats, enabling efficient storage and manipulation of alignment data.\n",
    "\n",
    "2. **Alignment Inspection:** Allows users to view and extract alignment information from SAM and BAM files, including read sequences, mapping quality scores, alignment positions, and alignment flags.\n",
    "\n",
    "3. **Sorting and Indexing:** Provides functions to sort alignment files by genomic coordinates and create index files for rapid retrieval of specific genomic regions, improving the efficiency of downstream analysis tasks.\n",
    "\n",
    "4. **Alignment Filtering:** Enables users to filter alignments based on various criteria such as mapping quality, read length, alignment flags, and alignment position, allowing for the selection of high-quality alignments for further analysis.\n",
    "\n",
    "5. **Pileup Generation:** Computes pileup information, summarizing the depth and variation of aligned reads at each genomic position, which is useful for variant calling and other genomic analyses.\n",
    "\n",
    "6. **Variant Calling:** Supports variant calling from aligned reads, providing tools for identifying single nucleotide polymorphisms (SNPs), insertions, deletions, and structural variants in genomic data.\n",
    "\n",
    "7. **Integration with Workflows:** Samtools can be seamlessly integrated into bioinformatics workflows, serving as a fundamental component for processing and analyzing high-throughput sequencing data.\n",
    "\n",
    "In summary, `samtools` is a powerful toolset for manipulating and analyzing sequence alignment data, providing essential functionalities for a wide range of bioinformatics applications.\n",
    "\n",
    "### Code "
   ]
  },
  {
   "cell_type": "code",
   "execution_count": null,
   "id": "50f870da-64a3-4391-9827-8460a24fb1a4",
   "metadata": {},
   "outputs": [],
   "source": [
    "mkdir -p hisat2\n",
    "for fq in Data/*.fastq.gz ; do\n",
    "    echo ${fq} \n",
    "    libname=$(basename $fq .fastq.gz)\n",
    "    hisat2 -x hisat2_indexes/Otauri -q -U ${fq} -S hisat2/${libname}.sam\n",
    "    samtools view -b -o hisat2/${libname}.bam hisat2/${libname}.sam\n",
    "    samtools sort -o hisat2/${libname}-sort.bam hisat2/${libname}.bam\n",
    "    samtools index hisat2/${libname}-sort.bam\n",
    "done"
   ]
  },
  {
   "cell_type": "markdown",
   "id": "06b25818-295b-4089-8a4b-9f9ee4433a68",
   "metadata": {},
   "source": [
    "## Count number of reads per gene\n",
    "\n",
    "### The tool we use : `htseq-count`\n",
    "\n",
    "The `htseq-count` tool is used in bioinformatics for quantifying gene expression from RNA sequencing (RNA-seq) data. Here's a brief overview of its functionality:\n",
    "\n",
    "1. **Counting Reads:** `htseq-count` counts the number of sequencing reads that align to features such as genes or exons in a reference genome.\n",
    "\n",
    "2. **Input Data:** Takes as input aligned reads in SAM (Sequence Alignment/Map) or BAM (Binary Alignment/Map) format, typically generated by aligners like HISAT2 or STAR.\n",
    "\n",
    "3. **Feature Annotation:** Requires a file containing annotations of genomic features, such as gene coordinates in GTF (Gene Transfer Format) or GFF (General Feature Format).\n",
    "\n",
    "4. **Counting Strategy:** Implements a strategy to assign aligned reads to features based on their alignment coordinates. Reads overlapping multiple features or features with overlapping coordinates can be handled according to specified preferences.\n",
    "\n",
    "5. **Output:** Produces a table or file containing the count of reads aligned to each feature, which can be used for downstream differential expression analysis or other gene expression studies.\n",
    "\n",
    "6. **Compatible with Downstream Tools:** The output of `htseq-count` is compatible with various statistical tools and workflows used for differential expression analysis, such as DESeq2 or edgeR.\n",
    "\n",
    "In summary, `htseq-count` is a valuable tool for quantifying gene expression from RNA-seq data, providing researchers with essential data for understanding the transcriptional landscape of biological samples.\n",
    "\n",
    "### Code\n"
   ]
  },
  {
   "cell_type": "code",
   "execution_count": null,
   "id": "95178777-b022-4168-9fd5-40ad00ac9f84",
   "metadata": {},
   "outputs": [],
   "source": [
    "pwd\n",
    "cd My1rstnotebook\n",
    "pwd"
   ]
  },
  {
   "cell_type": "code",
   "execution_count": null,
   "id": "d79924d3-a480-443a-830d-bd07672d5aaa",
   "metadata": {},
   "outputs": [],
   "source": [
    "\n",
    "htseq-count -f bam r pos -s no -t gene -i ID -m intersection-nonempty hisat2/*-sort.bam Data/O.tauri_annotation.gff > counts.txt"
   ]
  },
  {
   "cell_type": "code",
   "execution_count": null,
   "id": "16bad4c2-1f6a-4c79-bfa4-6ed94a60c364",
   "metadata": {},
   "outputs": [],
   "source": [
    "head counts.txt"
   ]
  },
  {
   "cell_type": "markdown",
   "id": "21deb92b-74f1-4040-83c9-442611f36852",
   "metadata": {},
   "source": [
    "## Differential analysis\n",
    "\n",
    "### The tool we use : `Desq2`\n",
    "\n",
    "DESeq2 is a software package for differential gene expression analysis from RNA sequencing (RNA-seq) data. It is widely used in molecular biology and genomics to identify genes whose expression varies significantly between different experimental conditions.\n",
    "\n",
    "### Code "
   ]
  },
  {
   "cell_type": "code",
   "execution_count": null,
   "id": "7db8efe4-3cb9-4025-84e1-1a1de54c97dc",
   "metadata": {},
   "outputs": [],
   "source": [
    "jupyter nbconvert --to script Deseq2.ipynb"
   ]
  },
  {
   "cell_type": "code",
   "execution_count": null,
   "id": "0310dbd5-fe38-4fd5-afc3-22c7482c6974",
   "metadata": {},
   "outputs": [],
   "source": [
    "R < Deseq2.r --no-save  "
   ]
  },
  {
   "cell_type": "markdown",
   "id": "19c0214b-3fd9-4f60-9ab6-47337030459f",
   "metadata": {},
   "source": [
    "![](deseq2_demo.png)"
   ]
  }
 ],
 "metadata": {
  "kernelspec": {
   "display_name": "Bash",
   "language": "bash",
   "name": "bash"
  },
  "language_info": {
   "codemirror_mode": "shell",
   "file_extension": ".sh",
   "mimetype": "text/x-sh",
   "name": "bash"
  }
 },
 "nbformat": 4,
 "nbformat_minor": 5
}
